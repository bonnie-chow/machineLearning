{
 "cells": [
  {
   "cell_type": "code",
   "execution_count": 1,
   "metadata": {},
   "outputs": [],
   "source": [
    "%matplotlib inline\n",
    "import matplotlib.pyplot as plt\n",
    "\n",
    "import ast\n",
    "import warnings\n",
    "\n",
    "import numpy as np\n",
    "import pandas as pd\n",
    "\n",
    "from sklearn.impute import SimpleImputer\n",
    "from sklearn.pipeline import Pipeline, FeatureUnion\n",
    "from sklearn.preprocessing import StandardScaler, OneHotEncoder\n",
    "from sklearn.model_selection import train_test_split, GridSearchCV\n",
    "from sklearn.ensemble import RandomForestRegressor\n",
    "from sklearn.metrics import mean_squared_log_error\n",
    "from sklearn.base import BaseEstimator, TransformerMixin"
   ]
  },
  {
   "cell_type": "markdown",
   "metadata": {},
   "source": [
    "Let us first define some classes which we will use for preprocessing of the data"
   ]
  },
  {
   "cell_type": "code",
   "execution_count": 2,
   "metadata": {},
   "outputs": [],
   "source": [
    "class ColumnDataPreprocessor:\n",
    "\n",
    "    def preprocess_languages(self, df):\n",
    "        df['original_language'].apply(lambda x: 'other' if x != 'en' else 'en')\n"
   ]
  },
  {
   "cell_type": "code",
   "execution_count": 3,
   "metadata": {},
   "outputs": [],
   "source": [
    "class ColumnSelector():\n",
    "\n",
    "    def remove_unwanted_columns(self, df, column_to_remove):\n",
    "        return df.drop(columns=column_to_remove)\n",
    "\n",
    "    def consider_subset_of_columns(self, df, columns):\n",
    "        return df[columns]"
   ]
  },
  {
   "cell_type": "code",
   "execution_count": 4,
   "metadata": {},
   "outputs": [],
   "source": [
    "class DictionaryDataExtractor:\n",
    "\n",
    "    dict_columns = ['belongs_to_collection', 'genres', 'production_companies',\n",
    "                'production_countries', 'spoken_languages', 'Keywords', 'cast', 'crew']\n",
    "\n",
    "    def text_to_dict(self, df, dict_columns=dict_columns):\n",
    "        for column in dict_columns:\n",
    "            df[column] = df[column].apply(lambda x: {} if pd.isna(x) else ast.literal_eval(x))\n",
    "        return df\n",
    "\n",
    "    def extract_data_from_dict(self, df, column_name, attribute_name):\n",
    "        return df[column_name].apply(lambda x: x[0][attribute_name] if len(x) > 0 else None)\n",
    "    \n",
    "    def extract_release_year(self, df):\n",
    "        return df['release_date'].apply(lambda x: x.split('/')[2])\n",
    "\n",
    "    def convert_if_condition_is_met(self, df, column_name, threshold):\n",
    "        dictionary = dict(df[column_name].value_counts())\n",
    "        return df[column_name].apply(lambda x: 'other' if self._check_if_number_of_appearances_are_below_threshold(x, threshold, dictionary) else x)\n",
    "\n",
    "\n",
    "    def _check_if_number_of_appearances_are_below_threshold(self, name, threshold, dictionary):\n",
    "        for element, number_appearances in dictionary.items():\n",
    "            if element == name:\n",
    "                if number_appearances < threshold:\n",
    "                    return True\n",
    "                return False\n",
    "        return False"
   ]
  },
  {
   "cell_type": "code",
   "execution_count": 5,
   "metadata": {},
   "outputs": [],
   "source": [
    "class DataFrameSelector(BaseEstimator, TransformerMixin):\n",
    "\n",
    "     def __init__(self, attribute_names):\n",
    "         self.attribute_names = attribute_names\n",
    "\n",
    "     def fit(self, X, y=None):\n",
    "         return self\n",
    "\n",
    "     def transform(self, X):\n",
    "         return X[self.attribute_names].values"
   ]
  },
  {
   "cell_type": "code",
   "execution_count": 6,
   "metadata": {},
   "outputs": [],
   "source": [
    "warnings.filterwarnings('ignore')\n",
    "\n",
    "dictionary_data_extractor = DictionaryDataExtractor()\n",
    "column_selector = ColumnSelector()\n",
    "column_data_preprocessor = ColumnDataPreprocessor()"
   ]
  },
  {
   "cell_type": "code",
   "execution_count": 7,
   "metadata": {},
   "outputs": [],
   "source": [
    "# include path_to_train and path_to_test with the corresponding csv's\n",
    "train = pd.read_csv(path_to_train)\n",
    "test = pd.read_csv(path_to_test)\n",
    "\n",
    "train = dictionary_data_extractor.text_to_dict(train)\n",
    "test = dictionary_data_extractor.text_to_dict(test)"
   ]
  },
  {
   "cell_type": "markdown",
   "metadata": {},
   "source": [
    "Now we can use the classes defined above to prepare the data."
   ]
  },
  {
   "cell_type": "code",
   "execution_count": 8,
   "metadata": {},
   "outputs": [],
   "source": [
    "train_without_id = column_selector.remove_unwanted_columns(train, ['id'])\n",
    "\n",
    "reduced_train_set = column_selector.consider_subset_of_columns(train_without_id, ['budget', 'genres', 'original_language', 'popularity', 'release_date', 'runtime', 'Keywords', 'cast', 'crew','revenue'])"
   ]
  },
  {
   "cell_type": "code",
   "execution_count": 9,
   "metadata": {},
   "outputs": [],
   "source": [
    "reduced_train_set['cleansed_languages'] = str(column_data_preprocessor.preprocess_languages(reduced_train_set))\n",
    "reduced_train_set['release_year'] = dictionary_data_extractor.extract_release_year(reduced_train_set)\n",
    "reduced_train_set['main_genre'] = str(dictionary_data_extractor.extract_data_from_dict(reduced_train_set, 'genres', 'name'))\n",
    "reduced_train_set['main_actor'] = str(dictionary_data_extractor.extract_data_from_dict(reduced_train_set, 'cast', 'name'))\n",
    "reduced_train_set['main_actor'] = str(dictionary_data_extractor.convert_if_condition_is_met(reduced_train_set, 'main_actor', 3))\n",
    "reduced_train_set['main_keyword'] = str(dictionary_data_extractor.extract_data_from_dict(reduced_train_set, 'Keywords', 'name'))\n",
    "reduced_train_set['main_keyword'] = str(dictionary_data_extractor.convert_if_condition_is_met(reduced_train_set, 'main_keyword', 6))\n",
    "reduced_train_set['main_crew_member'] = str(dictionary_data_extractor.extract_data_from_dict(reduced_train_set, 'crew', 'name'))\n",
    "reduced_train_set['main_crew_member'] = str(dictionary_data_extractor.convert_if_condition_is_met(reduced_train_set, 'main_crew_member', 6))\n",
    "\n",
    "train_after_handling_dicts = column_selector.remove_unwanted_columns(reduced_train_set, ['original_language', 'genres', 'Keywords', 'cast', 'crew'])"
   ]
  },
  {
   "cell_type": "code",
   "execution_count": 10,
   "metadata": {},
   "outputs": [],
   "source": [
    "train_labels = train_after_handling_dicts['revenue']"
   ]
  },
  {
   "cell_type": "code",
   "execution_count": 11,
   "metadata": {},
   "outputs": [],
   "source": [
    "cat_attributes = ['cleansed_languages', 'main_genre', 'main_keyword', 'main_actor', 'main_crew_member']\n",
    "num_attributes = ['budget', 'popularity', 'runtime', 'release_year']"
   ]
  },
  {
   "cell_type": "code",
   "execution_count": 12,
   "metadata": {},
   "outputs": [],
   "source": [
    "num_pipeline = Pipeline([\n",
    "    ('select_numeric', DataFrameSelector(num_attributes)),\n",
    "    ('impute_age', SimpleImputer(strategy='median')),\n",
    "    ('std_scaler', StandardScaler()),\n",
    "])\n",
    "\n",
    "cat_pipeline = Pipeline([\n",
    "    ('select_categorical', DataFrameSelector(cat_attributes)),\n",
    "    ('cat_encoder', OneHotEncoder()),\n",
    "])\n",
    "\n",
    "full_pipeline = FeatureUnion(transformer_list=[\n",
    "    ('num_pipeline', num_pipeline),\n",
    "    ('cat_pipeline', cat_pipeline),\n",
    "])"
   ]
  },
  {
   "cell_type": "code",
   "execution_count": 13,
   "metadata": {},
   "outputs": [],
   "source": [
    "X_train_prepared = full_pipeline.fit_transform(train_after_handling_dicts)\n",
    "y_train_prepared = train['revenue']"
   ]
  },
  {
   "cell_type": "code",
   "execution_count": 14,
   "metadata": {},
   "outputs": [],
   "source": [
    "X_train, X_val, y_train, y_val = \\\n",
    "    train_test_split(X_train_prepared, y_train_prepared.values, test_size=0.1, random_state=42)"
   ]
  },
  {
   "cell_type": "markdown",
   "metadata": {},
   "source": [
    "Before feeding the data into a randon forest, we first look for a good choice of hyperparameters"
   ]
  },
  {
   "cell_type": "code",
   "execution_count": 15,
   "metadata": {},
   "outputs": [],
   "source": [
    "param_grid = [\n",
    "    {'n_estimators': [3, 5, 10], 'max_depth': [5, 10, 15], 'max_features': [3, 6, 9]}\n",
    "]"
   ]
  },
  {
   "cell_type": "code",
   "execution_count": 16,
   "metadata": {},
   "outputs": [
    {
     "data": {
      "text/plain": [
       "{'max_depth': 15, 'max_features': 9, 'n_estimators': 3}"
      ]
     },
     "execution_count": 16,
     "metadata": {},
     "output_type": "execute_result"
    }
   ],
   "source": [
    "random_forest = RandomForestRegressor()\n",
    "grid_search = GridSearchCV(random_forest, param_grid, cv=5, scoring='neg_mean_squared_log_error')\n",
    "grid_search.fit(X_train, y_train)\n",
    "\n",
    "grid_search.best_params_"
   ]
  },
  {
   "cell_type": "markdown",
   "metadata": {},
   "source": [
    "Finally, we can evaluate how the model performs and its feature importance"
   ]
  },
  {
   "cell_type": "code",
   "execution_count": 17,
   "metadata": {},
   "outputs": [
    {
     "data": {
      "text/plain": [
       "[(0.6394563400776371, 'cleansed_languages'),\n",
       " (0.18131940951753625, 'main_genre'),\n",
       " (0.10810881577423037, 'main_keyword'),\n",
       " (0.07111543463059619, 'main_actor'),\n",
       " (0.0, 'runtime'),\n",
       " (0.0, 'release_year'),\n",
       " (0.0, 'popularity'),\n",
       " (0.0, 'main_crew_member'),\n",
       " (0.0, 'budget')]"
      ]
     },
     "execution_count": 17,
     "metadata": {},
     "output_type": "execute_result"
    }
   ],
   "source": [
    "best_forest = grid_search.best_estimator_\n",
    "\n",
    "feature_importances = best_forest.feature_importances_\n",
    "all_attributes = cat_attributes + num_attributes\n",
    "sorted(zip(feature_importances, all_attributes), reverse=True)"
   ]
  },
  {
   "cell_type": "code",
   "execution_count": 18,
   "metadata": {},
   "outputs": [
    {
     "data": {
      "text/plain": [
       "RandomForestRegressor(bootstrap=True, criterion='mse', max_depth=15,\n",
       "           max_features=9, max_leaf_nodes=None, min_impurity_decrease=0.0,\n",
       "           min_impurity_split=None, min_samples_leaf=1,\n",
       "           min_samples_split=2, min_weight_fraction_leaf=0.0,\n",
       "           n_estimators=3, n_jobs=None, oob_score=False, random_state=None,\n",
       "           verbose=0, warm_start=False)"
      ]
     },
     "execution_count": 18,
     "metadata": {},
     "output_type": "execute_result"
    }
   ],
   "source": [
    "best_forest.fit(X_train, y_train)"
   ]
  },
  {
   "cell_type": "code",
   "execution_count": 19,
   "metadata": {},
   "outputs": [],
   "source": [
    "class ModelEvaluator:\n",
    "\n",
    "    def evaluate_model(self, best_forest, input, labels, limit):\n",
    "        predictions = best_forest.predict(input)\n",
    "        some_predictions = predictions[:limit]\n",
    "        some_labels = list(labels)[:limit]\n",
    "\n",
    "        differences = np.array(some_predictions) - np.array(some_labels)\n",
    "        relative_errors = differences / np.array(some_labels)\n",
    "        rmsle = np.sqrt(mean_squared_log_error(list(labels), predictions))\n",
    "\n",
    "        plt.plot(some_labels, label='true labels', linewidth=2)\n",
    "        plt.plot(some_predictions, label='predicted labels', linewidth=2)\n",
    "        plt.show()\n",
    "\n",
    "        return relative_errors, rmsle"
   ]
  },
  {
   "cell_type": "code",
   "execution_count": 20,
   "metadata": {},
   "outputs": [
    {
     "data": {
      "image/png": "[encoded data removed]",
      "text/plain": [
       "<Figure size 432x288 with 1 Axes>"
      ]
     },
     "metadata": {
      "needs_background": "light"
     },
     "output_type": "display_data"
    },
    {
     "data": {
      "image/png": "[encoded data removed]",
      "text/plain": [
       "<Figure size 432x288 with 1 Axes>"
      ]
     },
     "metadata": {
      "needs_background": "light"
     },
     "output_type": "display_data"
    }
   ],
   "source": [
    "model_evaluator = ModelEvaluator()\n",
    "relative_validation_errors, rmsle_validation = model_evaluator.evaluate_model(best_forest, X_val, y_val, 40)\n",
    "relative_train_errors, rmsle_train = model_evaluator.evaluate_model(best_forest, X_train, y_train, 40)"
   ]
  },
  {
   "cell_type": "code",
   "execution_count": 21,
   "metadata": {},
   "outputs": [
    {
     "data": {
      "text/plain": [
       "2.477254000731655"
      ]
     },
     "execution_count": 21,
     "metadata": {},
     "output_type": "execute_result"
    }
   ],
   "source": [
    "rmsle_validation"
   ]
  }
 ],
 "metadata": {
  "kernelspec": {
   "display_name": "Python 3",
   "language": "python",
   "name": "python3"
  },
  "language_info": {
   "codemirror_mode": {
    "name": "ipython",
    "version": 3
   },
   "file_extension": ".py",
   "mimetype": "text/x-python",
   "name": "python",
   "nbconvert_exporter": "python",
   "pygments_lexer": "ipython3",
   "version": "3.7.1"
  }
 },
 "nbformat": 4,
 "nbformat_minor": 2
}
